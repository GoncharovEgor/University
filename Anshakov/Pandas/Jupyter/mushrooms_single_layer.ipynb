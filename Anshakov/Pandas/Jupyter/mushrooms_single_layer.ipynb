{
 "cells": [
  {
   "cell_type": "code",
   "execution_count": 1,
   "metadata": {},
   "outputs": [],
   "source": [
    "import numpy as np\n",
    "import pandas as pd\n",
    "import seaborn as sns"
   ]
  },
  {
   "cell_type": "code",
   "execution_count": 2,
   "metadata": {},
   "outputs": [],
   "source": [
    "mushrooms = pd.read_csv(r'C:\\Users\\Elijah\\Downloads\\mushrooms.csv')\n",
    "mushrooms = mushrooms.sort_values(by='class')"
   ]
  },
  {
   "cell_type": "code",
   "execution_count": 3,
   "metadata": {},
   "outputs": [],
   "source": [
    "X = mushrooms.drop('class', axis=1)\n",
    "y = mushrooms['class']"
   ]
  },
  {
   "cell_type": "code",
   "execution_count": 4,
   "metadata": {},
   "outputs": [],
   "source": [
    "y = pd.get_dummies(y.to_frame(), drop_first=True).rename(columns={'class_p': 'poisonous'})"
   ]
  },
  {
   "cell_type": "code",
   "execution_count": 5,
   "metadata": {},
   "outputs": [],
   "source": [
    "X = pd.get_dummies(X, drop_first=True)"
   ]
  },
  {
   "cell_type": "code",
   "execution_count": 6,
   "metadata": {},
   "outputs": [],
   "source": [
    "y = y * 2\n",
    "y = y.astype(int)\n",
    "y = y - 1\n",
    "\n",
    "X = X * 2\n",
    "X = X.astype(int)\n",
    "X = X - 1"
   ]
  },
  {
   "cell_type": "code",
   "execution_count": 7,
   "metadata": {},
   "outputs": [],
   "source": [
    "# данные готовы (значения '?' остались нетронутыми)"
   ]
  },
  {
   "cell_type": "code",
   "execution_count": 8,
   "metadata": {},
   "outputs": [],
   "source": [
    "# внутренний код\n",
    "\n",
    "def Work(X,W):\n",
    "    S=np.dot(X,W)\n",
    "    Y=np.sign(np.sign(S)-0.5)\n",
    "    return Y\n",
    "\n",
    "def Correction(X,Y,D,W,eta):\n",
    "    Delta=D-Y    \n",
    "    W+=eta*np.dot(X.T,Delta)\n",
    "    return Delta, W\n",
    "\n",
    "def Train(df_input, df_output, eta, MaxIter):\n",
    "    I=len(df_input.columns)\n",
    "    O=len(df_output.columns)\n",
    "    W=np.zeros((I,O))\n",
    "    N=len(df_input.index)\n",
    "    Iter=0\n",
    "    Success=True\n",
    "    StopCondition=False\n",
    "    while not StopCondition:\n",
    "        StopCondition = True\n",
    "        for i in range(N):\n",
    "            X=np.array(df_input.iloc[i])\n",
    "            X.shape=(1,I)\n",
    "            D=np.array(df_output.iloc[i])\n",
    "            D.shape=(1,O)\n",
    "            Y=Work(X,W)\n",
    "            Delta,W=Correction(X,Y,D,W,eta)\n",
    "            StopCondition &= (np.sum(np.absolute(Delta))==0)    \n",
    "        Iter+=1\n",
    "        if Iter>MaxIter:\n",
    "            Success=False\n",
    "            break\n",
    "    return W, Success, Iter\n",
    "\n",
    "def Test(df_input,df_output,W):\n",
    "    I=len(df_input.columns)\n",
    "    O=len(df_output.columns)\n",
    "    N=len(df_input.index)\n",
    "    K=0\n",
    "    for i in range(N):\n",
    "        X=np.array(df_input.iloc[i])\n",
    "        X.shape=(1,I)\n",
    "        D=np.array(df_output.iloc[i])\n",
    "        D.shape=(1,O)\n",
    "        Y=Work(X,W)\n",
    "        Delta=D-Y\n",
    "        if np.sum(np.absolute(Delta))!=0:\n",
    "            K+=1\n",
    "    return K"
   ]
  },
  {
   "cell_type": "code",
   "execution_count": 9,
   "metadata": {},
   "outputs": [
    {
     "name": "stdout",
     "output_type": "stream",
     "text": [
      "fine\n"
     ]
    }
   ],
   "source": [
    "from sklearn.model_selection import train_test_split\n",
    "\n",
    "MaxIter=1000 #int(input('maximum number of iterations: '))\n",
    "eta=0.3 #float(input('learning rate: '))\n",
    "df_train_input, df_test_input, df_train_output, df_test_output = train_test_split(X, y, test_size=0.2, random_state=0)\n",
    "W, Success, Iter = Train(df_train_input, df_train_output, eta, MaxIter)\n",
    "if Success:\n",
    "    print('fine')\n",
    "else:\n",
    "    print('unsuccessful learning')"
   ]
  },
  {
   "cell_type": "code",
   "execution_count": 10,
   "metadata": {},
   "outputs": [
    {
     "name": "stdout",
     "output_type": "stream",
     "text": [
      "4 iterations\n",
      "0 errors\n"
     ]
    }
   ],
   "source": [
    "print(Iter,'iterations')\n",
    "K = Test(df_test_input, df_test_output, W)\n",
    "print(K, 'errors')"
   ]
  }
 ],
 "metadata": {
  "kernelspec": {
   "display_name": "Python 3",
   "language": "python",
   "name": "python3"
  },
  "language_info": {
   "codemirror_mode": {
    "name": "ipython",
    "version": 3
   },
   "file_extension": ".py",
   "mimetype": "text/x-python",
   "name": "python",
   "nbconvert_exporter": "python",
   "pygments_lexer": "ipython3",
   "version": "3.8.3"
  }
 },
 "nbformat": 4,
 "nbformat_minor": 4
}
