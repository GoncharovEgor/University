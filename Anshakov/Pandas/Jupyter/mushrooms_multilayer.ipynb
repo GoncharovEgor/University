{
 "cells": [
  {
   "cell_type": "code",
   "execution_count": 1,
   "metadata": {},
   "outputs": [],
   "source": [
    "import numpy as np\n",
    "import pandas as pd\n",
    "import seaborn as sns"
   ]
  },
  {
   "cell_type": "code",
   "execution_count": 2,
   "metadata": {},
   "outputs": [],
   "source": [
    "data = pd.read_csv(r'C:\\Users\\Elijah\\Downloads\\mushrooms.csv')\n",
    "data = data.sort_values(by='class')"
   ]
  },
  {
   "cell_type": "code",
   "execution_count": 3,
   "metadata": {},
   "outputs": [],
   "source": [
    "X = data.drop('class', axis=1)  # средние значения данных\n",
    "y = data['class']"
   ]
  },
  {
   "cell_type": "code",
   "execution_count": 4,
   "metadata": {},
   "outputs": [],
   "source": [
    "y = pd.get_dummies(y.to_frame(), drop_first=True)"
   ]
  },
  {
   "cell_type": "code",
   "execution_count": 5,
   "metadata": {},
   "outputs": [],
   "source": [
    "X = pd.get_dummies(X, columns=X.columns, drop_first=True)"
   ]
  },
  {
   "cell_type": "code",
   "execution_count": 6,
   "metadata": {},
   "outputs": [],
   "source": [
    "# данные готовы (значения '?' остались нетронутыми)"
   ]
  },
  {
   "cell_type": "code",
   "execution_count": 7,
   "metadata": {},
   "outputs": [],
   "source": [
    "# внутренний код\n",
    "\n",
    "import numpy.random as rnd\n",
    "\n",
    "def Init_Net(df_input, df_output, K):\n",
    "    I=len(df_input.columns)\n",
    "    O=len(df_output.columns)\n",
    "    d=I-O\n",
    "    delta=d//(K+1)\n",
    "    l=[I] \n",
    "    for i in range(K):\n",
    "        l.append(I-(i+1)*delta)\n",
    "    l.append(O)\n",
    "    LW=[]\n",
    "    for i in range(K+1):\n",
    "        W=rnd.uniform(0,0.1,(l[i],l[i+1]))\n",
    "        LW.append(W)\n",
    "    return LW\n",
    "\n",
    "def Sigmoid(S,a):\n",
    "    return 1/(1+np.exp(-a*S))\n",
    "\n",
    "def Work_Item(X,W,a):\n",
    "    S=np.dot(X,W)\n",
    "    Y=Sigmoid(S,a)\n",
    "    return Y\n",
    "\n",
    "def Work(X,LW,a):\n",
    "    K=len(LW)\n",
    "    LY=[X]\n",
    "    for i in range(K):\n",
    "        Y=Work_Item(X,LW[i],a)\n",
    "        LY.append(Y)\n",
    "        X=Y\n",
    "    return LY\n",
    "\n",
    "def Correction(LY,LW,D,eta,a):\n",
    "    K=len(LW)\n",
    "    for k in list(range(K+1))[::-1][:-1]:\n",
    "        if k==K:\n",
    "            error=t=D-LY[k]\n",
    "        else:\n",
    "            t=np.dot(Delta,LW[k].T)\n",
    "        Delta=a*t*LY[k]*(1-LY[k])\n",
    "        LW[k-1]+=eta*np.dot(LY[k-1].T,Delta)\n",
    "    return LW, error\n",
    "\n",
    "def Train(df_input, df_output, KIntra, a, eta, MaxIter, epsilon):\n",
    "    I=len(df_input.columns)\n",
    "    O=len(df_output.columns)\n",
    "    LW=Init_Net(df_input, df_output, KIntra)\n",
    "    Iter=0\n",
    "    N=len(df_input.index)\n",
    "    Success=True\n",
    "    StopCondition=False\n",
    "    while not StopCondition:\n",
    "        ErrorEnergy=[]\n",
    "        for i in range(N):\n",
    "            X=np.array(df_input.iloc[i])\n",
    "            X.shape=(1,I)\n",
    "            D=np.array(df_output.iloc[i])\n",
    "            D.shape=(1,O)\n",
    "            LY=Work(X,LW,a)\n",
    "            LW,error=Correction(LY,LW,D,eta,a)\n",
    "            ErrorEnergy.append(0.5*np.sum(error**2))\n",
    "        AvgErrorEnergy=np.mean(np.array(ErrorEnergy))\n",
    "        Iter+=1\n",
    "        StopCondition=(AvgErrorEnergy<epsilon)\n",
    "        if Iter>MaxIter:\n",
    "            Success=False\n",
    "            break\n",
    "    return LW, Success, Iter\n",
    "    \n",
    "def Test(df_input,df_output,KIntra,a,LW,epsilon):\n",
    "    I=len(df_input.columns)\n",
    "    O=len(df_output.columns)\n",
    "    N=len(df_input.index)\n",
    "    K=len(LW)\n",
    "    KError=0\n",
    "    for i in range(N):\n",
    "        X=np.array(df_input.iloc[i])\n",
    "        X.shape=(1,I)\n",
    "        D=np.array(df_output.iloc[i])\n",
    "        D.shape=(1,O)\n",
    "        LY=Work(X,LW,a)\n",
    "        Y=LY[K]\n",
    "        error=D-Y\n",
    "        if 0.5*np.sum(error**2)>=epsilon*5:\n",
    "            KError+=1\n",
    "    return KError"
   ]
  },
  {
   "cell_type": "code",
   "execution_count": 8,
   "metadata": {},
   "outputs": [
    {
     "name": "stdout",
     "output_type": "stream",
     "text": [
      "fine\n"
     ]
    }
   ],
   "source": [
    "from sklearn.model_selection import train_test_split\n",
    "\n",
    "MaxIter=1000 #int(input('maximum number of iterations: '))\n",
    "KIntra=1 #int(input('number of intermediate layers: '))\n",
    "eta=0.3 #float(input('learning rate: '))\n",
    "epsilon=0.015 #float(input('epsilon: '))\n",
    "a=1 #float(input('parameter a: '))\n",
    "df_train_input, df_test_input, df_train_output, df_test_output = train_test_split(X, y, test_size=0.2, random_state=0)\n",
    "LW, Success, Iter = Train(df_train_input, df_train_output, KIntra, a, eta, MaxIter, epsilon)\n",
    "if Success:\n",
    "    print('fine')\n",
    "else:\n",
    "    print('unsuccessful learning')"
   ]
  },
  {
   "cell_type": "code",
   "execution_count": 9,
   "metadata": {},
   "outputs": [
    {
     "name": "stdout",
     "output_type": "stream",
     "text": [
      "2 iterations\n",
      "8 errors\n"
     ]
    }
   ],
   "source": [
    "print(Iter, 'iterations')\n",
    "KError = Test(df_test_input, df_test_output, KIntra, a, LW, epsilon)\n",
    "print(KError, 'errors')"
   ]
  }
 ],
 "metadata": {
  "kernelspec": {
   "display_name": "Python 3",
   "language": "python",
   "name": "python3"
  },
  "language_info": {
   "codemirror_mode": {
    "name": "ipython",
    "version": 3
   },
   "file_extension": ".py",
   "mimetype": "text/x-python",
   "name": "python",
   "nbconvert_exporter": "python",
   "pygments_lexer": "ipython3",
   "version": "3.8.3"
  }
 },
 "nbformat": 4,
 "nbformat_minor": 4
}
